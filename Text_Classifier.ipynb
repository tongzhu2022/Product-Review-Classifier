{
 "cells": [
  {
   "cell_type": "code",
   "execution_count": 51,
   "id": "5905611f",
   "metadata": {},
   "outputs": [],
   "source": [
    "import random\n",
    "\n",
    "class Review:\n",
    "    def __init__(self, text, score):\n",
    "        self.text = text  # allowed to do review[index].text\n",
    "        self.score = score  # allowed to do review[index].score\n",
    "        self.sentiment = self.get_sentiment()\n",
    "    \n",
    "    def get_sentiment(self):\n",
    "        if self.score <= 2:\n",
    "            return 'Negative'\n",
    "        elif self.score == 3:\n",
    "            return 'Neutral'\n",
    "        else:\n",
    "            return 'Positive'\n",
    "        \n",
    "class ReviewContainer:\n",
    "    def __init__(self, reviews):\n",
    "        self.reviews = reviews\n",
    "        \n",
    "    def get_text(self):\n",
    "        return [i.text for i in self.reviews]  # method for list comprehension (text)\n",
    "        \n",
    "    def get_sentiment(self):  # same method but in different class\n",
    "        return [i.sentiment for i in self.reviews]  # method for list comprehension (sentiment)\n",
    "    \n",
    "    def evenly_distribute(self):\n",
    "        negative = list(filter(lambda x: x.sentiment == \"Negative\", self.reviews))\n",
    "        positive = list(filter(lambda x: x.sentiment == \"Positive\", self.reviews))\n",
    "        positive_shrunk = positive[:len(negative)]  # shrunk the number of positive reviews\n",
    "        self.reviews = positive_shrunk + negative\n",
    "        random.shuffle(self.reviews)  # shuffle the order of positive and negative reviews"
   ]
  },
  {
   "cell_type": "code",
   "execution_count": 52,
   "id": "d5adc4e4",
   "metadata": {},
   "outputs": [],
   "source": [
    "import json\n",
    "\n",
    "file_path = '/Users/tongzhu/python_projects/ml/text/books_small_10000.json'\n",
    "\n",
    "reviews = []\n",
    "with open(file_path) as f:\n",
    "    for i in f:\n",
    "        line = json.loads(i)\n",
    "#       print(line['reviewText'])\n",
    "#       print(line['overall'])\n",
    "        reviews.append(Review(line['reviewText'], line['overall']))  # Review(text, score)"
   ]
  },
  {
   "cell_type": "code",
   "execution_count": 53,
   "id": "33c00717",
   "metadata": {},
   "outputs": [],
   "source": [
    "# train test split\n",
    "from sklearn.model_selection import train_test_split\n",
    "\n",
    "training, test = train_test_split(reviews, test_size=0.33, random_state=8)  #random state = 8\n",
    "\n",
    "train_container = ReviewContainer(training)\n",
    "test_container = ReviewContainer(test)"
   ]
  },
  {
   "cell_type": "code",
   "execution_count": 54,
   "id": "b6b45e43",
   "metadata": {},
   "outputs": [
    {
     "name": "stdout",
     "output_type": "stream",
     "text": [
      "428\n",
      "428\n"
     ]
    }
   ],
   "source": [
    "train_container.evenly_distribute()\n",
    "train_x = train_container.get_text()\n",
    "train_y = train_container.get_sentiment()\n",
    "\n",
    "test_container.evenly_distribute()\n",
    "test_x = test_container.get_text()\n",
    "test_y = test_container.get_sentiment()\n",
    "\n",
    "print(train_y.count('Positive'))  # number of positive reviews in the training set\n",
    "print(train_y.count('Negative'))  # number of negative reviews in the training set"
   ]
  },
  {
   "cell_type": "code",
   "execution_count": 55,
   "id": "1243c8d6",
   "metadata": {},
   "outputs": [],
   "source": [
    "# bag of words\n",
    "from sklearn.feature_extraction.text import CountVectorizer, TfidfVectorizer\n",
    "\n",
    "vectorizer = TfidfVectorizer()\n",
    "train_x_vectors = vectorizer.fit_transform(train_x)  # learn from the training set and transform\n",
    "\n",
    "test_x_vectors = vectorizer.transform(test_x)  # only transform for the test set"
   ]
  },
  {
   "cell_type": "code",
   "execution_count": 56,
   "id": "0b709a88",
   "metadata": {},
   "outputs": [
    {
     "data": {
      "text/plain": [
       "SVC(kernel='linear')"
      ]
     },
     "execution_count": 56,
     "metadata": {},
     "output_type": "execute_result"
    }
   ],
   "source": [
    "# classifications\n",
    "\n",
    "# linear Support Vector Machine(SVM)\n",
    "from sklearn import svm\n",
    "\n",
    "clf_svm = svm.SVC(kernel='linear')\n",
    "\n",
    "clf_svm.fit(train_x_vectors, train_y)"
   ]
  },
  {
   "cell_type": "code",
   "execution_count": 57,
   "id": "3bdd3eae",
   "metadata": {},
   "outputs": [
    {
     "data": {
      "text/plain": [
       "DecisionTreeClassifier()"
      ]
     },
     "execution_count": 57,
     "metadata": {},
     "output_type": "execute_result"
    }
   ],
   "source": [
    "# decision tree\n",
    "from sklearn.tree import DecisionTreeClassifier\n",
    "\n",
    "clf_dec = DecisionTreeClassifier()\n",
    "\n",
    "clf_dec.fit(train_x_vectors, train_y)"
   ]
  },
  {
   "cell_type": "code",
   "execution_count": 58,
   "id": "f7ff4492",
   "metadata": {},
   "outputs": [
    {
     "data": {
      "text/plain": [
       "GaussianNB()"
      ]
     },
     "execution_count": 58,
     "metadata": {},
     "output_type": "execute_result"
    }
   ],
   "source": [
    "# navie bayes\n",
    "from sklearn.naive_bayes import GaussianNB\n",
    "\n",
    "clf_gnb = GaussianNB()\n",
    "\n",
    "clf_gnb.fit(train_x_vectors.toarray(), train_y)"
   ]
  },
  {
   "cell_type": "code",
   "execution_count": 59,
   "id": "880017c1",
   "metadata": {},
   "outputs": [
    {
     "data": {
      "text/plain": [
       "LogisticRegression()"
      ]
     },
     "execution_count": 59,
     "metadata": {},
     "output_type": "execute_result"
    }
   ],
   "source": [
    "# logistic regression\n",
    "from sklearn.linear_model import LogisticRegression\n",
    "\n",
    "clf_log = LogisticRegression()\n",
    "\n",
    "clf_log.fit(train_x_vectors, train_y)"
   ]
  },
  {
   "cell_type": "code",
   "execution_count": 60,
   "id": "090b587f",
   "metadata": {},
   "outputs": [
    {
     "name": "stdout",
     "output_type": "stream",
     "text": [
      "0.8611111111111112\n",
      "0.6851851851851852\n",
      "0.6597222222222222\n",
      "0.8402777777777778\n"
     ]
    }
   ],
   "source": [
    "# evaluation\n",
    "\n",
    "# mean accuracy\n",
    "print(clf_svm.score(test_x_vectors, test_y))\n",
    "print(clf_dec.score(test_x_vectors, test_y))\n",
    "print(clf_gnb.score(test_x_vectors.toarray(), test_y))\n",
    "print(clf_log.score(test_x_vectors, test_y))"
   ]
  },
  {
   "cell_type": "code",
   "execution_count": 61,
   "id": "c1bdd1f2",
   "metadata": {},
   "outputs": [
    {
     "data": {
      "text/plain": [
       "array([0.85849057, 0.86363636])"
      ]
     },
     "execution_count": 61,
     "metadata": {},
     "output_type": "execute_result"
    }
   ],
   "source": [
    "# F1 scores\n",
    "from sklearn.metrics import f1_score\n",
    "\n",
    "# svm\n",
    "f1_score(test_y, clf_svm.predict(test_x_vectors), average=None, labels=['Positive', 'Negative'])\n",
    "# this is the method we will be focusing on optimizing"
   ]
  },
  {
   "cell_type": "code",
   "execution_count": 62,
   "id": "dd643856",
   "metadata": {},
   "outputs": [
    {
     "data": {
      "text/plain": [
       "array([0.67307692, 0.69642857])"
      ]
     },
     "execution_count": 62,
     "metadata": {},
     "output_type": "execute_result"
    }
   ],
   "source": [
    "# decision tree\n",
    "f1_score(test_y, clf_dec.predict(test_x_vectors), average=None, labels=['Positive', 'Negative'])"
   ]
  },
  {
   "cell_type": "code",
   "execution_count": 63,
   "id": "9a0b7340",
   "metadata": {},
   "outputs": [
    {
     "data": {
      "text/plain": [
       "array([0.66361556, 0.6557377 ])"
      ]
     },
     "execution_count": 63,
     "metadata": {},
     "output_type": "execute_result"
    }
   ],
   "source": [
    "# naive bayes\n",
    "f1_score(test_y, clf_gnb.predict(test_x_vectors.toarray()), average=None, labels=['Positive', 'Negative'])"
   ]
  },
  {
   "cell_type": "code",
   "execution_count": 64,
   "id": "0a8ac52b",
   "metadata": {},
   "outputs": [
    {
     "data": {
      "text/plain": [
       "array([0.83610451, 0.84424379])"
      ]
     },
     "execution_count": 64,
     "metadata": {},
     "output_type": "execute_result"
    }
   ],
   "source": [
    "# logistic regression\n",
    "f1_score(test_y, clf_log.predict(test_x_vectors), average=None, labels=['Positive', 'Negative'])"
   ]
  },
  {
   "cell_type": "code",
   "execution_count": 65,
   "id": "6cde813a",
   "metadata": {},
   "outputs": [
    {
     "name": "stdout",
     "output_type": "stream",
     "text": [
      "Number of positive reviews in the training set: 428\n",
      "\n",
      "Number of negative reviews in the training set: 428\n"
     ]
    }
   ],
   "source": [
    "print(f'''Number of positive reviews in the training set: {train_y.count('Positive')}\\n\n",
    "Number of negative reviews in the training set: {train_y.count('Negative')}''')"
   ]
  },
  {
   "cell_type": "code",
   "execution_count": 66,
   "id": "ad51d485",
   "metadata": {},
   "outputs": [
    {
     "data": {
      "text/plain": [
       "array(['Negative', 'Negative', 'Positive'], dtype='<U8')"
      ]
     },
     "execution_count": 66,
     "metadata": {},
     "output_type": "execute_result"
    }
   ],
   "source": [
    "# create random test sample\n",
    "random_test = ['Too bad DO NOT buy', 'not fun at all', 'so damn good']\n",
    "random_test_vectors = vectorizer.transform(random_test)\n",
    "\n",
    "clf_svm.predict(random_test_vectors)"
   ]
  },
  {
   "cell_type": "code",
   "execution_count": 67,
   "id": "9ebf2c13",
   "metadata": {},
   "outputs": [
    {
     "name": "stdout",
     "output_type": "stream",
     "text": [
      "Best parameters found:  {'C': 5, 'kernel': 'rbf'}\n",
      "Best score achieved:  0.8621039031687747\n"
     ]
    }
   ],
   "source": [
    "# grid search\n",
    "from sklearn.model_selection import GridSearchCV\n",
    "\n",
    "parameters = {'kernel': ('linear', 'rbf'),\n",
    "              'C': (0.25, 0.5, 0.75, 1, 5, 10)}\n",
    "\n",
    "untuned_clf_svm = svm.SVC()\n",
    "tuned_clf_svm = GridSearchCV(untuned_clf_svm, parameters, cv=5)\n",
    "tuned_clf_svm.fit(train_x_vectors, train_y)\n",
    "\n",
    "print(\"Best parameters found: \", tuned_clf_svm.best_params_)\n",
    "print(\"Best score achieved: \", tuned_clf_svm.best_score_)"
   ]
  },
  {
   "cell_type": "code",
   "execution_count": 68,
   "id": "d0585de4",
   "metadata": {
    "scrolled": true
   },
   "outputs": [
    {
     "name": "stdout",
     "output_type": "stream",
     "text": [
      "Before tuning:\n",
      "Mean Accuracy before tuning: 0.8611111111111112\n",
      "F1 Score before tuning: [0.85849057 0.86363636]\n",
      "After tuning:\n",
      "Mean Accuracy after tuning: 0.8564814814814815\n",
      "F1 Score after tuning: [0.85377358 0.85909091]\n"
     ]
    }
   ],
   "source": [
    "print('Before tuning:')\n",
    "print(f'Mean Accuracy before tuning: {clf_svm.score(test_x_vectors, test_y)}')\n",
    "print(f'F1 Score before tuning: {f1_score(test_y, clf_svm.predict(test_x_vectors), average=None, labels=[\"Positive\", \"Negative\"])}')\n",
    "print('After tuning:')\n",
    "print(f'Mean Accuracy after tuning: {tuned_clf_svm.score(test_x_vectors, test_y)}')\n",
    "print(f'F1 Score after tuning: {f1_score(test_y, tuned_clf_svm.predict(test_x_vectors), average=None, labels=[\"Positive\", \"Negative\"])}')"
   ]
  },
  {
   "cell_type": "code",
   "execution_count": 69,
   "id": "f9072a12",
   "metadata": {},
   "outputs": [],
   "source": [
    "# saving model\n",
    "import pickle\n",
    "\n",
    "with open('/Users/tongzhu/python_projects/models/text_classifier.pkl', 'wb') as f:\n",
    "    pickle.dump(tuned_clf_svm, f)\n",
    "    \n",
    "with open('/Users/tongzhu/python_projects/models/text_vectorizer.pkl', 'wb') as f:\n",
    "    pickle.dump(vectorizer, f)"
   ]
  },
  {
   "cell_type": "code",
   "execution_count": 70,
   "id": "b232e574",
   "metadata": {},
   "outputs": [],
   "source": [
    "# load model\n",
    "with open('/Users/tongzhu/python_projects/models/text_classifier.pkl', 'rb') as f:\n",
    "    loaded_clf = pickle.load(f)\n",
    "\n",
    "with open('/Users/tongzhu/python_projects/models/text_vectorizer.pkl', 'rb') as f:\n",
    "    loaded_vectorizer = pickle.load(f)  "
   ]
  },
  {
   "cell_type": "code",
   "execution_count": 71,
   "id": "8b5709a6",
   "metadata": {},
   "outputs": [
    {
     "data": {
      "text/plain": [
       "array(['Positive', 'Positive', 'Negative'], dtype='<U8')"
      ]
     },
     "execution_count": 71,
     "metadata": {},
     "output_type": "execute_result"
    }
   ],
   "source": [
    "# test if the classifier and vectorizer are loaded correctly\n",
    "random_test2 = ['amazing book', 'great book', 'not good']\n",
    "\n",
    "random_test_vectors2 = loaded_vectorizer.transform(random_test2)\n",
    "\n",
    "loaded_clf.predict(random_test_vectors2)"
   ]
  }
 ],
 "metadata": {
  "kernelspec": {
   "display_name": "Python 3 (ipykernel)",
   "language": "python",
   "name": "python3"
  },
  "language_info": {
   "codemirror_mode": {
    "name": "ipython",
    "version": 3
   },
   "file_extension": ".py",
   "mimetype": "text/x-python",
   "name": "python",
   "nbconvert_exporter": "python",
   "pygments_lexer": "ipython3",
   "version": "3.9.13"
  }
 },
 "nbformat": 4,
 "nbformat_minor": 5
}
