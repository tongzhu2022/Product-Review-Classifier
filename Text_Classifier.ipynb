{
 "cells": [
  {
   "cell_type": "code",
   "execution_count": 162,
   "id": "5905611f",
   "metadata": {},
   "outputs": [],
   "source": [
    "import random\n",
    "\n",
    "class Review:\n",
    "    def __init__(self, text, score):\n",
    "        self.text = text  # allowed to do review[index].text\n",
    "        self.score = score  # allowed to do review[index].score\n",
    "        self.sentiment = self.get_sentiment()\n",
    "    \n",
    "    def get_sentiment(self):\n",
    "        if self.score <= 2:\n",
    "            return 'Negative'\n",
    "        elif self.score == 3:\n",
    "            return 'Neutral'\n",
    "        else:\n",
    "            return 'Positive'\n",
    "        \n",
    "class ReviewContainer:\n",
    "    def __init__(self, reviews):\n",
    "        self.reviews = reviews\n",
    "        \n",
    "    def get_text(self):\n",
    "        return [i.text for i in self.reviews]  # method for list comprehension (text)\n",
    "        \n",
    "    def get_sentiment(self):  # same method but in different class\n",
    "        return [i.sentiment for i in self.reviews]  # method for list comprehension (sentiment)\n",
    "    \n",
    "    def evenly_distribute(self):\n",
    "        negative = list(filter(lambda x: x.sentiment == \"Negative\", self.reviews))\n",
    "        positive = list(filter(lambda x: x.sentiment == \"Positive\", self.reviews))\n",
    "        positive_shrunk = positive[:len(negative)]  # shrunk the number of positive reviews\n",
    "        self.reviews = positive_shrunk + negative\n",
    "        random.shuffle(self.reviews)  # shuffle the order of positive and negative reviews"
   ]
  },
  {
   "cell_type": "code",
   "execution_count": 163,
   "id": "d5adc4e4",
   "metadata": {},
   "outputs": [
    {
     "data": {
      "text/plain": [
       "'I hoped for Mia to have some peace in this book, but her story is so real and raw.  Broken World was so touching and emotional because you go from Mia\\'s trauma to her trying to cope.  I love the way the story displays how there is no \"just bouncing back\" from being sexually assaulted.  Mia showed us how those demons come for you every day and how sometimes they best you. I was so in the moment with Broken World and hurt with Mia because she was surrounded by people but so alone and I understood her feelings.  I found myself wishing I could give her some of my courage and strength or even just to be there for her.  Thank you Lizzy for putting a great character\\'s voice on a strong subject and making it so that other peoples story may be heard through Mia\\'s.'"
      ]
     },
     "execution_count": 163,
     "metadata": {},
     "output_type": "execute_result"
    }
   ],
   "source": [
    "import json\n",
    "\n",
    "file_path = '/Users/tongzhu/python_projects/ml/text/books_small_10000.json'\n",
    "\n",
    "reviews = []\n",
    "with open(file_path) as f:\n",
    "    for i in f:\n",
    "        line = json.loads(i)\n",
    "#       print(line['reviewText'])\n",
    "#       print(line['overall'])\n",
    "        reviews.append(Review(line['reviewText'], line['overall']))  # Review(text, score)\n",
    "\n",
    "reviews[5].text"
   ]
  },
  {
   "cell_type": "code",
   "execution_count": 164,
   "id": "33c00717",
   "metadata": {},
   "outputs": [],
   "source": [
    "# train test split\n",
    "from sklearn.model_selection import train_test_split\n",
    "\n",
    "training, test = train_test_split(reviews, test_size=0.33, random_state=42)  #random state = 42\n",
    "\n",
    "train_container = ReviewContainer(training)\n",
    "test_container = ReviewContainer(test)"
   ]
  },
  {
   "cell_type": "code",
   "execution_count": 165,
   "id": "b6b45e43",
   "metadata": {},
   "outputs": [
    {
     "name": "stdout",
     "output_type": "stream",
     "text": [
      "436\n",
      "436\n"
     ]
    }
   ],
   "source": [
    "train_container.evenly_distribute()\n",
    "train_x = train_container.get_text()\n",
    "train_y = train_container.get_sentiment()\n",
    "\n",
    "test_container.evenly_distribute()\n",
    "test_x = test_container.get_text()\n",
    "test_y = test_container.get_sentiment()\n",
    "\n",
    "print(train_y.count('Positive'))  # number of positive reviews\n",
    "print(train_y.count('Negative'))  # number of negative reviews"
   ]
  },
  {
   "cell_type": "code",
   "execution_count": 188,
   "id": "1243c8d6",
   "metadata": {},
   "outputs": [],
   "source": [
    "# bag of words\n",
    "from sklearn.feature_extraction.text import CountVectorizer, TfidfVectorizer\n",
    "\n",
    "vectorizer = TfidfVectorizer()\n",
    "train_x_vectors = vectorizer.fit_transform(train_x)  # learn from the training set and transform\n",
    "\n",
    "test_x_vectors = vectorizer.transform(test_x)  # only transform for the test set"
   ]
  },
  {
   "cell_type": "code",
   "execution_count": 202,
   "id": "5346eb67",
   "metadata": {},
   "outputs": [],
   "source": [
    "# classifications"
   ]
  },
  {
   "cell_type": "code",
   "execution_count": 203,
   "id": "0b709a88",
   "metadata": {},
   "outputs": [
    {
     "data": {
      "text/plain": [
       "SVC(kernel='linear')"
      ]
     },
     "execution_count": 203,
     "metadata": {},
     "output_type": "execute_result"
    }
   ],
   "source": [
    "# linear Support Vector Machine(SVM)\n",
    "from sklearn import svm\n",
    "\n",
    "clf_svm = svm.SVC(kernel='linear')\n",
    "\n",
    "clf_svm.fit(train_x_vectors, train_y)"
   ]
  },
  {
   "cell_type": "code",
   "execution_count": 204,
   "id": "3bdd3eae",
   "metadata": {},
   "outputs": [
    {
     "data": {
      "text/plain": [
       "DecisionTreeClassifier()"
      ]
     },
     "execution_count": 204,
     "metadata": {},
     "output_type": "execute_result"
    }
   ],
   "source": [
    "# decision tree\n",
    "from sklearn.tree import DecisionTreeClassifier\n",
    "\n",
    "clf_dec = DecisionTreeClassifier()\n",
    "\n",
    "clf_dec.fit(train_x_vectors, train_y)"
   ]
  },
  {
   "cell_type": "code",
   "execution_count": 205,
   "id": "f7ff4492",
   "metadata": {},
   "outputs": [
    {
     "data": {
      "text/plain": [
       "GaussianNB()"
      ]
     },
     "execution_count": 205,
     "metadata": {},
     "output_type": "execute_result"
    }
   ],
   "source": [
    "# navie bayes\n",
    "from sklearn.naive_bayes import GaussianNB\n",
    "\n",
    "clf_gnb = GaussianNB()\n",
    "\n",
    "clf_gnb.fit(train_x_vectors.toarray(), train_y)"
   ]
  },
  {
   "cell_type": "code",
   "execution_count": 206,
   "id": "880017c1",
   "metadata": {},
   "outputs": [
    {
     "data": {
      "text/plain": [
       "LogisticRegression()"
      ]
     },
     "execution_count": 206,
     "metadata": {},
     "output_type": "execute_result"
    }
   ],
   "source": [
    "# logistic regression\n",
    "from sklearn.linear_model import LogisticRegression\n",
    "\n",
    "clf_log = LogisticRegression()\n",
    "\n",
    "clf_log.fit(train_x_vectors, train_y)"
   ]
  },
  {
   "cell_type": "code",
   "execution_count": 207,
   "id": "19fcfba7",
   "metadata": {},
   "outputs": [],
   "source": [
    "# evaluation"
   ]
  },
  {
   "cell_type": "code",
   "execution_count": 208,
   "id": "090b587f",
   "metadata": {},
   "outputs": [
    {
     "name": "stdout",
     "output_type": "stream",
     "text": [
      "0.8076923076923077\n",
      "0.6298076923076923\n",
      "0.6610576923076923\n",
      "0.8052884615384616\n"
     ]
    }
   ],
   "source": [
    "# mean accuracy\n",
    "print(clf_svm.score(test_x_vectors, test_y))\n",
    "print(clf_dec.score(test_x_vectors, test_y))\n",
    "print(clf_gnb.score(test_x_vectors.toarray(), test_y))\n",
    "print(clf_log.score(test_x_vectors, test_y))"
   ]
  },
  {
   "cell_type": "code",
   "execution_count": 218,
   "id": "c1bdd1f2",
   "metadata": {},
   "outputs": [
    {
     "data": {
      "text/plain": [
       "array([0.80582524, 0.80952381])"
      ]
     },
     "execution_count": 218,
     "metadata": {},
     "output_type": "execute_result"
    }
   ],
   "source": [
    "# F1 scores\n",
    "from sklearn.metrics import f1_score\n",
    "\n",
    "# svm\n",
    "f1_score(test_y, clf_svm.predict(test_x_vectors), average=None, labels=['Positive', 'Negative'])\n",
    "# this is the method we will be focusing on optimizing"
   ]
  },
  {
   "cell_type": "code",
   "execution_count": 211,
   "id": "dd643856",
   "metadata": {},
   "outputs": [
    {
     "data": {
      "text/plain": [
       "array([0.62068966, 0.63849765])"
      ]
     },
     "execution_count": 211,
     "metadata": {},
     "output_type": "execute_result"
    }
   ],
   "source": [
    "# decision tree\n",
    "f1_score(test_y, clf_dec.predict(test_x_vectors), average=None, labels=['Positive', 'Negative'])"
   ]
  },
  {
   "cell_type": "code",
   "execution_count": 212,
   "id": "9a0b7340",
   "metadata": {},
   "outputs": [
    {
     "data": {
      "text/plain": [
       "array([0.65693431, 0.66508314])"
      ]
     },
     "execution_count": 212,
     "metadata": {},
     "output_type": "execute_result"
    }
   ],
   "source": [
    "# naive bayes\n",
    "f1_score(test_y, clf_gnb.predict(test_x_vectors.toarray()), average=None, labels=['Positive', 'Negative'])"
   ]
  },
  {
   "cell_type": "code",
   "execution_count": 213,
   "id": "0a8ac52b",
   "metadata": {},
   "outputs": [
    {
     "data": {
      "text/plain": [
       "array([0.80291971, 0.80760095])"
      ]
     },
     "execution_count": 213,
     "metadata": {},
     "output_type": "execute_result"
    }
   ],
   "source": [
    "# logistic regression\n",
    "f1_score(test_y, clf_log.predict(test_x_vectors), average=None, labels=['Positive', 'Negative'])"
   ]
  },
  {
   "cell_type": "code",
   "execution_count": 214,
   "id": "6cde813a",
   "metadata": {},
   "outputs": [
    {
     "name": "stdout",
     "output_type": "stream",
     "text": [
      "Number of positive reviews in the training set: 436\n",
      "\n",
      "Number of negative reviews in the training set: 436\n"
     ]
    }
   ],
   "source": [
    "print(f'''Number of positive reviews in the training set: {train_y.count('Positive')}\\n\n",
    "Number of negative reviews in the training set: {train_y.count('Negative')}''')"
   ]
  },
  {
   "cell_type": "code",
   "execution_count": 254,
   "id": "ad51d485",
   "metadata": {},
   "outputs": [
    {
     "data": {
      "text/plain": [
       "array(['Negative', 'Negative', 'Positive'], dtype='<U8')"
      ]
     },
     "execution_count": 254,
     "metadata": {},
     "output_type": "execute_result"
    }
   ],
   "source": [
    "# create random test sample\n",
    "random_test = ['Too bad DO NOT buy', 'not fun at all', 'so damn good']\n",
    "random_test_vectors = vectorizer.transform(random_test)\n",
    "\n",
    "clf_svm.predict(random_test_vectors)"
   ]
  },
  {
   "cell_type": "code",
   "execution_count": 227,
   "id": "9ebf2c13",
   "metadata": {},
   "outputs": [
    {
     "name": "stdout",
     "output_type": "stream",
     "text": [
      "Best parameters found:  {'C': 2, 'kernel': 'rbf'}\n",
      "Best score achieved:  0.8463054187192119\n"
     ]
    }
   ],
   "source": [
    "# grid search\n",
    "from sklearn.model_selection import GridSearchCV\n",
    "\n",
    "parameters = {'kernel': ('linear', 'rbf'),\n",
    "              'C': (1,2,3,4,5,6,7,8,9,10)}\n",
    "\n",
    "untuned_clf_svm = svm.SVC()\n",
    "tuned_clf_svm = GridSearchCV(untuned_clf_svm, parameters, cv=5)\n",
    "tuned_clf_svm.fit(train_x_vectors, train_y)\n",
    "\n",
    "print(\"Best parameters found: \", tuned_clf_svm.best_params_)\n",
    "print(\"Best score achieved: \", tuned_clf_svm.best_score_)"
   ]
  },
  {
   "cell_type": "code",
   "execution_count": 245,
   "id": "d0585de4",
   "metadata": {
    "scrolled": true
   },
   "outputs": [
    {
     "name": "stdout",
     "output_type": "stream",
     "text": [
      "Before tuning:\n",
      "Mean Accuracy before tuning: 0.8076923076923077\n",
      "F1 Score before tuning: [0.80582524 0.80952381]\n",
      "After tuning:\n",
      "Mean Accuracy after tuning: 0.8173076923076923\n",
      "F1 Score after tuning: [0.82075472 0.81372549]\n"
     ]
    }
   ],
   "source": [
    "print('Before tuning:')\n",
    "print(f'Mean Accuracy before tuning: {clf_svm.score(test_x_vectors, test_y)}')\n",
    "print(f'F1 Score before tuning: {f1_score(test_y, clf_svm.predict(test_x_vectors), average=None, labels=[\"Positive\", \"Negative\"])}')\n",
    "print('After tuning:')\n",
    "print(f'Mean Accuracy after tuning: {tuned_clf_svm.score(test_x_vectors, test_y)}')\n",
    "print(f'F1 Score after tuning: {f1_score(test_y, tuned_clf_svm.predict(test_x_vectors), average=None, labels=[\"Positive\", \"Negative\"])}')"
   ]
  },
  {
   "cell_type": "code",
   "execution_count": 251,
   "id": "f9072a12",
   "metadata": {},
   "outputs": [],
   "source": [
    "# saving model\n",
    "import pickle\n",
    "\n",
    "with open('/Users/tongzhu/python_projects/models/text_classifier.pkl', 'wb') as f:\n",
    "    pickle.dump(tuned_clf_svm, f)\n",
    "    \n",
    "with open('/Users/tongzhu/python_projects/models/text_vectorizer.pkl', 'wb') as f:\n",
    "    pickle.dump(vectorizer, f)"
   ]
  },
  {
   "cell_type": "code",
   "execution_count": 257,
   "id": "b232e574",
   "metadata": {},
   "outputs": [],
   "source": [
    "# load model\n",
    "with open('/Users/tongzhu/python_projects/models/text_classifier.pkl', 'rb') as f:\n",
    "    loaded_clf = pickle.load(f)\n",
    "\n",
    "with open('/Users/tongzhu/python_projects/models/text_vectorizer.pkl', 'rb') as f:\n",
    "    loaded_vectorizer = pickle.load(f)  "
   ]
  },
  {
   "cell_type": "code",
   "execution_count": 261,
   "id": "8b5709a6",
   "metadata": {},
   "outputs": [
    {
     "data": {
      "text/plain": [
       "array(['Positive', 'Positive', 'Negative'], dtype='<U8')"
      ]
     },
     "execution_count": 261,
     "metadata": {},
     "output_type": "execute_result"
    }
   ],
   "source": [
    "# test if the classifier and vectorizer are loaded correctly\n",
    "random_test2 = ['amazing book', 'great book', 'not good']\n",
    "\n",
    "random_test_vectors2 = loaded_vectorizer.transform(random_test2)\n",
    "\n",
    "loaded_clf.predict(random_test_vectors2)"
   ]
  }
 ],
 "metadata": {
  "kernelspec": {
   "display_name": "Python 3 (ipykernel)",
   "language": "python",
   "name": "python3"
  },
  "language_info": {
   "codemirror_mode": {
    "name": "ipython",
    "version": 3
   },
   "file_extension": ".py",
   "mimetype": "text/x-python",
   "name": "python",
   "nbconvert_exporter": "python",
   "pygments_lexer": "ipython3",
   "version": "3.9.13"
  }
 },
 "nbformat": 4,
 "nbformat_minor": 5
}
